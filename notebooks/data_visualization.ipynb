{
 "cells": [
  {
   "cell_type": "code",
   "execution_count": 5,
   "id": "01dd19c2-5aea-47a4-bc3f-ccb1f14e74bd",
   "metadata": {
    "tags": []
   },
   "outputs": [],
   "source": [
    "import glob\n",
    "import pandas as pd\n",
    "import numpy as np\n",
    "import matplotlib.pyplot as plt\n",
    "import matplotlib.patches as mpatches\n",
    "\n",
    "import os\n",
    "import datetime"
   ]
  },
  {
   "cell_type": "code",
   "execution_count": 6,
   "id": "c1546265-dde9-490a-b10f-28d21344dbce",
   "metadata": {
    "tags": []
   },
   "outputs": [],
   "source": [
    "filepath = os.path.join('../data/', 'eagle_data_2023_02_22.pkl')\n",
    "eagle_df = pd.read_pickle(filepath)"
   ]
  },
  {
   "cell_type": "code",
   "execution_count": 7,
   "id": "316b3f5d-18fe-43ad-a563-26e001c9d9e8",
   "metadata": {
    "tags": []
   },
   "outputs": [
    {
     "data": {
      "text/plain": [
       "Index(['user', 'account', 'partition', 'nodes_req', 'processors_req',\n",
       "       'wallclock_req', 'qos', 'gpus_requested', 'name', 'submit_time',\n",
       "       'job_id', 'wallclock_used', 'hours_used', 'state', 'start_time',\n",
       "       'end_time', 'work_dir', 'submit_line', 'req_mem'],\n",
       "      dtype='object')"
      ]
     },
     "execution_count": 7,
     "metadata": {},
     "output_type": "execute_result"
    }
   ],
   "source": [
    "eagle_df.columns"
   ]
  },
  {
   "cell_type": "code",
   "execution_count": 8,
   "id": "50020775-dac7-4012-99e4-e10947513d99",
   "metadata": {
    "tags": []
   },
   "outputs": [
    {
     "data": {
      "text/plain": [
       "11215986"
      ]
     },
     "execution_count": 8,
     "metadata": {},
     "output_type": "execute_result"
    }
   ],
   "source": [
    "len(eagle_df)"
   ]
  },
  {
   "cell_type": "code",
   "execution_count": 9,
   "id": "674e177c-033f-476e-9d84-22001b615b18",
   "metadata": {
    "tags": []
   },
   "outputs": [
    {
     "data": {
      "text/plain": [
       "950"
      ]
     },
     "execution_count": 9,
     "metadata": {},
     "output_type": "execute_result"
    }
   ],
   "source": [
    "len(eagle_df.user.unique())"
   ]
  },
  {
   "cell_type": "code",
   "execution_count": 10,
   "id": "b40c3477-8c3d-491a-974d-4f0469b67175",
   "metadata": {
    "tags": []
   },
   "outputs": [
    {
     "data": {
      "text/plain": [
       "594"
      ]
     },
     "execution_count": 10,
     "metadata": {},
     "output_type": "execute_result"
    }
   ],
   "source": [
    "len(eagle_df.account.unique())"
   ]
  },
  {
   "cell_type": "code",
   "execution_count": 12,
   "id": "3ef04c45-8b26-456e-a03c-fd277ad0b06e",
   "metadata": {
    "tags": []
   },
   "outputs": [
    {
     "data": {
      "text/plain": [
       "Timedelta('13 days 00:00:30')"
      ]
     },
     "execution_count": 12,
     "metadata": {},
     "output_type": "execute_result"
    }
   ],
   "source": [
    "eagle_df[eagle_df.state.isin(['COMPLETED','TIMEOUT'])].wallclock_used.max()"
   ]
  },
  {
   "cell_type": "code",
   "execution_count": 13,
   "id": "b409bc03-eda5-4c82-b60a-a6db7305788a",
   "metadata": {
    "tags": []
   },
   "outputs": [
    {
     "data": {
      "text/plain": [
       "2100"
      ]
     },
     "execution_count": 13,
     "metadata": {},
     "output_type": "execute_result"
    }
   ],
   "source": [
    "eagle_df[eagle_df.state.isin(['COMPLETED','TIMEOUT'])].nodes_req.max()"
   ]
  },
  {
   "cell_type": "code",
   "execution_count": 14,
   "id": "c6285a50-94dd-491b-948a-2f7595a8d8cc",
   "metadata": {
    "tags": []
   },
   "outputs": [
    {
     "data": {
      "text/plain": [
       "Timedelta('0 days 00:16:13')"
      ]
     },
     "execution_count": 14,
     "metadata": {},
     "output_type": "execute_result"
    }
   ],
   "source": [
    "eagle_df[eagle_df.state.isin(['COMPLETED','TIMEOUT'])].wallclock_used.median()"
   ]
  },
  {
   "cell_type": "code",
   "execution_count": 17,
   "id": "b8d5688f-3097-4d55-acd1-26273d1627b6",
   "metadata": {
    "tags": []
   },
   "outputs": [],
   "source": [
    "eagle_df['wallclock_used_seconds'] = filtered_df.wallclock_used.apply(lambda x: x.total_seconds())"
   ]
  },
  {
   "cell_type": "code",
   "execution_count": 45,
   "id": "ec6ab788-b74e-42fa-9b2a-01db3a91ba2f",
   "metadata": {
    "tags": []
   },
   "outputs": [],
   "source": [
    "filtered_df = eagle_df[eagle_df.state.isin(['COMPLETED','TIMEOUT'])]"
   ]
  },
  {
   "cell_type": "code",
   "execution_count": 47,
   "id": "4f596497-8c4d-406f-9bae-bb5dd783c73e",
   "metadata": {
    "tags": []
   },
   "outputs": [
    {
     "name": "stderr",
     "output_type": "stream",
     "text": [
      "/var/folders/cy/yhfymg2j61gfl448mb_195qxlvt1vt/T/ipykernel_96512/4263330385.py:10: SettingWithCopyWarning: \n",
      "A value is trying to be set on a copy of a slice from a DataFrame.\n",
      "Try using .loc[row_indexer,col_indexer] = value instead\n",
      "\n",
      "See the caveats in the documentation: https://pandas.pydata.org/pandas-docs/stable/user_guide/indexing.html#returning-a-view-versus-a-copy\n",
      "  filtered_df[\"node_hours_binned\"] = filtered_df.hours_used.apply(bin_node_hours)\n"
     ]
    },
    {
     "data": {
      "text/html": [
       "<div>\n",
       "<style scoped>\n",
       "    .dataframe tbody tr th:only-of-type {\n",
       "        vertical-align: middle;\n",
       "    }\n",
       "\n",
       "    .dataframe tbody tr th {\n",
       "        vertical-align: top;\n",
       "    }\n",
       "\n",
       "    .dataframe thead th {\n",
       "        text-align: right;\n",
       "    }\n",
       "</style>\n",
       "<table border=\"1\" class=\"dataframe\">\n",
       "  <thead>\n",
       "    <tr style=\"text-align: right;\">\n",
       "      <th></th>\n",
       "      <th>job_length</th>\n",
       "      <th>num_jobs</th>\n",
       "      <th>node_hours</th>\n",
       "    </tr>\n",
       "  </thead>\n",
       "  <tbody>\n",
       "    <tr>\n",
       "      <th>2</th>\n",
       "      <td>short</td>\n",
       "      <td>6717169</td>\n",
       "      <td>3.638441e+06</td>\n",
       "    </tr>\n",
       "    <tr>\n",
       "      <th>1</th>\n",
       "      <td>medium</td>\n",
       "      <td>1358916</td>\n",
       "      <td>1.484994e+07</td>\n",
       "    </tr>\n",
       "    <tr>\n",
       "      <th>0</th>\n",
       "      <td>long</td>\n",
       "      <td>232019</td>\n",
       "      <td>4.476531e+07</td>\n",
       "    </tr>\n",
       "  </tbody>\n",
       "</table>\n",
       "</div>"
      ],
      "text/plain": [
       "  job_length  num_jobs    node_hours\n",
       "2      short   6717169  3.638441e+06\n",
       "1     medium   1358916  1.484994e+07\n",
       "0       long    232019  4.476531e+07"
      ]
     },
     "execution_count": 47,
     "metadata": {},
     "output_type": "execute_result"
    }
   ],
   "source": [
    "def bin_node_hours(v):\n",
    "    if v <= 4:\n",
    "        return \"short\"\n",
    "    elif (v > 4) and (v <= 48):\n",
    "        return \"medium\"\n",
    "    else: \n",
    "        return \"long\"\n",
    "\n",
    "node_hours_binned_labels = [\"short\", \"medium\", \"long\"]\n",
    "filtered_df[\"node_hours_binned\"] = filtered_df.hours_used.apply(bin_node_hours)\n",
    "\n",
    "num_jobs_by_job_length = dict()\n",
    "\n",
    "for idx, grp in filtered_df.groupby('node_hours_binned'):\n",
    "    num_jobs_by_job_length[idx] = len(grp)\n",
    "    \n",
    "num_jobs_by_job_length_df = pd.DataFrame(\\\n",
    "zip(num_jobs_by_job_length.keys(),num_jobs_by_job_length.values()),\\\n",
    "columns=['job_length', 'num_jobs'])\n",
    "\n",
    "node_hours_by_job_length = dict()\n",
    "\n",
    "for idx, grp in filtered_df.groupby('node_hours_binned'):\n",
    "    node_hours_by_job_length[idx] = grp['hours_used'].sum()\n",
    "    \n",
    "node_hours_by_job_length_df = pd.DataFrame(\\\n",
    "zip(node_hours_by_job_length.keys(),node_hours_by_job_length.values()),\\\n",
    "columns=['job_length', 'node_hours'])\n",
    "\n",
    "num_jobs_by_job_length_sorted = num_jobs_by_job_length_df.sort_values('job_length')\n",
    "node_hours_by_job_length_sorted = node_hours_by_job_length_df.sort_values('job_length')\n",
    "\n",
    "num_jobs_and_node_hours_by_job_length = pd.concat([num_jobs_by_job_length_sorted,node_hours_by_job_length_sorted['node_hours']],axis=1).sort_values('node_hours')\n",
    "num_jobs_and_node_hours_by_job_length"
   ]
  },
  {
   "cell_type": "code",
   "execution_count": 23,
   "id": "19a70646-c9e0-4a38-8a6a-f9f2e3f6e30a",
   "metadata": {
    "tags": []
   },
   "outputs": [
    {
     "data": {
      "text/plain": [
       "16.216666666666665"
      ]
     },
     "execution_count": 23,
     "metadata": {},
     "output_type": "execute_result"
    }
   ],
   "source": [
    "(filtered_df['wallclock_used_seconds'] / 60).median()"
   ]
  },
  {
   "cell_type": "code",
   "execution_count": 25,
   "id": "45b4b5a0-c1a8-4675-aed1-3a03f94caa21",
   "metadata": {
    "tags": []
   },
   "outputs": [
    {
     "data": {
      "image/png": "[encoded data removed]",
      "text/plain": [
       "<Figure size 1200x300 with 1 Axes>"
      ]
     },
     "metadata": {},
     "output_type": "display_data"
    }
   ],
   "source": [
    "plt.figure(figsize=(12,3))\n",
    "plt.hist(filtered_df['wallclock_used_seconds'] / 3600, bins=240)\n",
    "plt.xlim([-3,243])\n",
    "plt.xticks([0,24,48,72,96,120,144,168,192,216,240], labels=[0,1,2,3,4,5,6,7,8,9,10])\n",
    "plt.yscale('log')\n",
    "plt.xlabel('Run time (days)')\n",
    "plt.ylabel('Number of Jobs (log)')\n",
    "plt.title('Runtime Distribution of Eagle Jobs')\n",
    "plt.tight_layout()\n",
    "plt.savefig('runtime_distribution.jpg',dpi=300)\n",
    "plt.show()"
   ]
  },
  {
   "cell_type": "code",
   "execution_count": 26,
   "id": "88033bc6-820c-4e29-bbfe-66735ca61862",
   "metadata": {
    "tags": []
   },
   "outputs": [
    {
     "data": {
      "text/plain": [
       "5586365"
      ]
     },
     "execution_count": 26,
     "metadata": {},
     "output_type": "execute_result"
    }
   ],
   "source": [
    "len(filtered_df[filtered_df['wallclock_used_seconds'] / 3600 < 1])"
   ]
  },
  {
   "cell_type": "code",
   "execution_count": 146,
   "id": "641faa00-e252-4641-bb2f-a104740b6850",
   "metadata": {
    "tags": []
   },
   "outputs": [
    {
     "data": {
      "image/png": "[encoded data removed]",
      "text/plain": [
       "<Figure size 1200x300 with 1 Axes>"
      ]
     },
     "metadata": {},
     "output_type": "display_data"
    }
   ],
   "source": [
    "plt.figure(figsize=(12,3))\n",
    "plt.hist(filtered_df['nodes_req'], bins=100)\n",
    "plt.xlim([0,2100])\n",
    "plt.yscale('log')\n",
    "plt.xlabel('Number of Nodes Requested')\n",
    "plt.ylabel('Number of Jobs (log)')\n",
    "plt.title('Number of Nodes Requested by Eagle Jobs')\n",
    "plt.tight_layout()\n",
    "plt.savefig('nodes_req_distribution.jpg',dpi=300)\n",
    "plt.show()"
   ]
  },
  {
   "cell_type": "code",
   "execution_count": 33,
   "id": "e7573c8e-bbe4-46df-aee3-05fb517d918b",
   "metadata": {
    "tags": []
   },
   "outputs": [
    {
     "data": {
      "text/plain": [
       "69"
      ]
     },
     "execution_count": 33,
     "metadata": {},
     "output_type": "execute_result"
    }
   ],
   "source": [
    "len(filtered_df[filtered_df['nodes_req'] > 1000])"
   ]
  },
  {
   "cell_type": "code",
   "execution_count": 49,
   "id": "895d3611-a0f9-495a-9660-59f629668a7a",
   "metadata": {
    "tags": []
   },
   "outputs": [
    {
     "data": {
      "image/png": "[encoded data removed]",
      "text/plain": [
       "<Figure size 1200x250 with 2 Axes>"
      ]
     },
     "metadata": {},
     "output_type": "display_data"
    }
   ],
   "source": [
    "job_length = num_jobs_and_node_hours_by_job_length['job_length']\n",
    "\n",
    "fig, axes = plt.subplots(figsize=(12,2.5), ncols=2, sharey=True)\n",
    "fig.tight_layout()\n",
    "\n",
    "colors = ['#66ffb3','#ff66b3','#66b3ff']\n",
    "index = ['SHORT','MEDIUM','LONG']\n",
    "\n",
    "axes[0].barh(index, num_jobs_and_node_hours_by_job_length['num_jobs'], align='center', color=colors, zorder=10)\n",
    "axes[0].set_title(\"# of Jobs\")\n",
    "axes[0].invert_xaxis()\n",
    "axes[0].yaxis.tick_left()\n",
    "\n",
    "axes[1].barh(index, num_jobs_and_node_hours_by_job_length['node_hours'], align='center', color=colors, zorder=10)\n",
    "axes[1].set_title(\"Node Hours\")\n",
    "\n",
    "labels_0 = ['0','1','2','3','4','5','6','7']\n",
    "axes[0].set_xlabel(\"# of Jobs (millions)\");\n",
    "axes[0].set_xticks(list(range(0,7000001,1000000)))\n",
    "axes[0].set_xticklabels(labels_0)\n",
    "\n",
    "labels_1 = ['0','10','20','30','40','50']\n",
    "axes[1].set_xlabel(\"Node Hours (millions)\");\n",
    "axes[1].set_xticks(list(range(0,50000001,10000000)))\n",
    "axes[1].set_xticklabels(labels_1)\n",
    "axes[1].tick_params(left=False)\n",
    "\n",
    "plt.subplots_adjust(wspace=0.05, top=0.85, bottom=0.1, left=0.18, right=0.95)\n",
    "plt.gca().invert_yaxis()\n",
    "\n",
    "plt.tight_layout()\n",
    "figure_name = \"num_jobs_and_node_hours_by_job_size.png\"\n",
    "filepath = os.path.join('./', figure_name)\n",
    "fig.savefig(filepath, dpi=300)"
   ]
  },
  {
   "cell_type": "code",
   "execution_count": 50,
   "id": "89823711-c709-4089-abd1-d82668276cfc",
   "metadata": {
    "tags": []
   },
   "outputs": [
    {
     "name": "stderr",
     "output_type": "stream",
     "text": [
      "/var/folders/cy/yhfymg2j61gfl448mb_195qxlvt1vt/T/ipykernel_96512/2209348400.py:1: SettingWithCopyWarning: \n",
      "A value is trying to be set on a copy of a slice from a DataFrame.\n",
      "Try using .loc[row_indexer,col_indexer] = value instead\n",
      "\n",
      "See the caveats in the documentation: https://pandas.pydata.org/pandas-docs/stable/user_guide/indexing.html#returning-a-view-versus-a-copy\n",
      "  filtered_df['wc_factor'] = filtered_df.wallclock_req / filtered_df.wallclock_used\n"
     ]
    }
   ],
   "source": [
    "filtered_df['wc_factor'] = filtered_df.wallclock_req / filtered_df.wallclock_used"
   ]
  },
  {
   "cell_type": "code",
   "execution_count": 51,
   "id": "6aa6e33c-abe5-4044-854b-f59c2c56536d",
   "metadata": {
    "tags": []
   },
   "outputs": [
    {
     "data": {
      "text/plain": [
       "12          150.000000\n",
       "13            1.818182\n",
       "14            1.935484\n",
       "15          100.000000\n",
       "16          100.000000\n",
       "               ...    \n",
       "11215959      2.336579\n",
       "11215960      2.285714\n",
       "11215965      0.995025\n",
       "11215968      0.993926\n",
       "11215969     14.860681\n",
       "Name: wc_factor, Length: 8308104, dtype: float64"
      ]
     },
     "execution_count": 51,
     "metadata": {},
     "output_type": "execute_result"
    }
   ],
   "source": [
    "filtered_df['wc_factor']"
   ]
  },
  {
   "cell_type": "code",
   "execution_count": 253,
   "id": "f62769bc-93e0-4d6b-afdb-6bb6fde58db6",
   "metadata": {
    "tags": []
   },
   "outputs": [
    {
     "data": {
      "image/png": "[encoded data removed]",
      "text/plain": [
       "<Figure size 600x400 with 1 Axes>"
      ]
     },
     "metadata": {},
     "output_type": "display_data"
    }
   ],
   "source": [
    "plt.figure(figsize=(6,4))\n",
    "plt.hist(filtered_df[filtered_df.wallclock_used_seconds > 0].wc_factor, bins=np.logspace(0,7,50))\n",
    "med_factor = filtered_df[filtered_df.wallclock_used_seconds > 0].wc_factor.median()\n",
    "plt.vlines(med_factor,0,3000000, color = 'aquamarine', linestyle = '--', label=f\"Median ({med_factor:.2f})\")\n",
    "plt.xscale('log')\n",
    "plt.yscale('log')\n",
    "plt.legend()\n",
    "plt.xlim([1,10000000])\n",
    "plt.ylim([.1,3000000])\n",
    "plt.xlabel('Wallclock Requested / Wallclock Used')\n",
    "plt.ylabel('Number of Jobs')\n",
    "plt.title('Wallclock Overestimation Factor (Requested/Used)')\n",
    "plt.tight_layout()\n",
    "#plt.savefig('wallclock_overestimation_factor.jpg',dpi=300)\n",
    "plt.show()"
   ]
  },
  {
   "cell_type": "code",
   "execution_count": 54,
   "id": "3f1198a6-19b8-4775-ab4b-a8f9e42db2fa",
   "metadata": {
    "tags": []
   },
   "outputs": [
    {
     "name": "stderr",
     "output_type": "stream",
     "text": [
      "/var/folders/cy/yhfymg2j61gfl448mb_195qxlvt1vt/T/ipykernel_96512/206475875.py:1: SettingWithCopyWarning: \n",
      "A value is trying to be set on a copy of a slice from a DataFrame.\n",
      "Try using .loc[row_indexer,col_indexer] = value instead\n",
      "\n",
      "See the caveats in the documentation: https://pandas.pydata.org/pandas-docs/stable/user_guide/indexing.html#returning-a-view-versus-a-copy\n",
      "  filtered_df['wait_time'] = (filtered_df.start_time - filtered_df.submit_time).apply(lambda x: x.total_seconds())\n"
     ]
    }
   ],
   "source": [
    "filtered_df['wait_time'] = (filtered_df.start_time - filtered_df.submit_time).apply(lambda x: x.total_seconds())"
   ]
  },
  {
   "cell_type": "code",
   "execution_count": 56,
   "id": "ebf9cc89-e824-49cf-a87e-561ce3b93c5a",
   "metadata": {
    "tags": []
   },
   "outputs": [
    {
     "name": "stderr",
     "output_type": "stream",
     "text": [
      "/var/folders/cy/yhfymg2j61gfl448mb_195qxlvt1vt/T/ipykernel_96512/3212569425.py:1: SettingWithCopyWarning: \n",
      "A value is trying to be set on a copy of a slice from a DataFrame.\n",
      "Try using .loc[row_indexer,col_indexer] = value instead\n",
      "\n",
      "See the caveats in the documentation: https://pandas.pydata.org/pandas-docs/stable/user_guide/indexing.html#returning-a-view-versus-a-copy\n",
      "  filtered_df['wallclock_req_seconds'] = filtered_df['wallclock_req'].apply(lambda x: x.total_seconds())\n"
     ]
    }
   ],
   "source": [
    "filtered_df['wallclock_req_seconds'] = filtered_df['wallclock_req'].apply(lambda x: x.total_seconds())"
   ]
  },
  {
   "cell_type": "code",
   "execution_count": 147,
   "id": "f94fea77-659e-42a2-8815-ee7948cde2b0",
   "metadata": {
    "tags": []
   },
   "outputs": [],
   "source": [
    "def bin_wallclock_req(v):\n",
    "    if v <= .1:\n",
    "        return 0 #\"[0,10 m)\"\n",
    "    elif (v > .1) and (v <= 1):\n",
    "        return 1 #\"[10,30 m)\"\n",
    "    elif (v > 1) and (v <= 10):\n",
    "        return 2 #\"[30 m,1 hr)\"\n",
    "    elif (v > 10) and (v <= 100):\n",
    "        return 3 #\"[1,2 hr)\"\\\n",
    "    else:\n",
    "        return 4"
   ]
  },
  {
   "cell_type": "code",
   "execution_count": 148,
   "id": "6831bdcc-794a-410c-9298-83479aa687cd",
   "metadata": {
    "tags": []
   },
   "outputs": [
    {
     "name": "stderr",
     "output_type": "stream",
     "text": [
      "/var/folders/cy/yhfymg2j61gfl448mb_195qxlvt1vt/T/ipykernel_96512/3844773637.py:1: SettingWithCopyWarning: \n",
      "A value is trying to be set on a copy of a slice from a DataFrame.\n",
      "Try using .loc[row_indexer,col_indexer] = value instead\n",
      "\n",
      "See the caveats in the documentation: https://pandas.pydata.org/pandas-docs/stable/user_guide/indexing.html#returning-a-view-versus-a-copy\n",
      "  filtered_df[\"wallclock_req_binned\"] = (filtered_df.wallclock_req_seconds / 3600).apply(bin_wallclock_req)\n"
     ]
    }
   ],
   "source": [
    "filtered_df[\"wallclock_req_binned\"] = (filtered_df.wallclock_req_seconds / 3600).apply(bin_wallclock_req)"
   ]
  },
  {
   "cell_type": "code",
   "execution_count": 149,
   "id": "0af152ee-6b18-42bb-aefd-e35dea5096ec",
   "metadata": {
    "tags": []
   },
   "outputs": [],
   "source": [
    "avg_wait_time = dict()\n",
    "for idx, grp in filtered_df.groupby('wallclock_req_binned'):\n",
    "    avg_wait_time[idx] = grp.wait_time.mean() / 3600"
   ]
  },
  {
   "cell_type": "code",
   "execution_count": 150,
   "id": "cb08afac-e54c-4305-8468-1b2b8300ce2e",
   "metadata": {
    "tags": []
   },
   "outputs": [],
   "source": [
    "from scipy.optimize import curve_fit"
   ]
  },
  {
   "cell_type": "code",
   "execution_count": 229,
   "id": "981d9394-3926-4388-8350-b3925e10c9da",
   "metadata": {
    "tags": []
   },
   "outputs": [
    {
     "data": {
      "text/plain": [
       "<matplotlib.legend.Legend at 0x7fca27a430a0>"
      ]
     },
     "execution_count": 229,
     "metadata": {},
     "output_type": "execute_result"
    },
    {
     "data": {
      "image/png": "[encoded data removed]",
      "text/plain": [
       "<Figure size 600x400 with 1 Axes>"
      ]
     },
     "metadata": {},
     "output_type": "display_data"
    }
   ],
   "source": [
    "plt.figure(figsize=(6,4))\n",
    "x = np.array([0.0537,.5115,4.02,38.42,206.1])\n",
    "y = np.array(list(avg_wait_time.values()))\n",
    "\n",
    "x_ = np.linspace(0.05,206,2000)\n",
    "y_ = 5.077028*x_**.5365035\n",
    "\n",
    "plt.scatter(x,y)\n",
    "plt.plot(x_,y_,linestyle='--',color='grey',alpha=0.8,label='$wait\\:time=5.077(wallclock\\:requested)^{0.5365}$')\n",
    "\n",
    "plt.xscale('log')\n",
    "#plt.yscale('log')\n",
    "plt.xticks(x,labels=['[0,.1]','(.1,1]','(1,10]','(10,100]','>100'])\n",
    "plt.xlabel('Wallclock Requested (hours)')\n",
    "plt.ylabel('Wait Time (hours)')\n",
    "plt.title('Wait Time by Wallclock Requested')\n",
    "plt.minorticks_off()\n",
    "plt.tight_layout()\n",
    "plt.legend()\n",
    "#plt.savefig('waittime_by_wallclock_req.jpg',dpi=300)"
   ]
  },
  {
   "cell_type": "code",
   "execution_count": 189,
   "id": "ab966cba-e3d6-4f40-8f95-7015bfcf4b96",
   "metadata": {
    "tags": []
   },
   "outputs": [
    {
     "data": {
      "text/plain": [
       "0.053722662915347844"
      ]
     },
     "execution_count": 189,
     "metadata": {},
     "output_type": "execute_result"
    }
   ],
   "source": [
    "filtered_df[filtered_df.wallclock_req_seconds < .1*3600].wallclock_req_seconds.mean() / 3600"
   ]
  },
  {
   "cell_type": "code",
   "execution_count": 190,
   "id": "06dad483-ac0d-496a-a4d1-9df981f357f7",
   "metadata": {
    "tags": []
   },
   "outputs": [
    {
     "data": {
      "text/plain": [
       "0.5114917548939671"
      ]
     },
     "execution_count": 190,
     "metadata": {},
     "output_type": "execute_result"
    }
   ],
   "source": [
    "filtered_df[filtered_df.wallclock_req_seconds.between(.1*3600,3600,inclusive='right')].wallclock_req_seconds.mean() / 3600"
   ]
  },
  {
   "cell_type": "code",
   "execution_count": 191,
   "id": "5ecbcc41-b43c-48b5-972b-4bfe52ec2c80",
   "metadata": {
    "tags": []
   },
   "outputs": [
    {
     "data": {
      "text/plain": [
       "4.021349111120306"
      ]
     },
     "execution_count": 191,
     "metadata": {},
     "output_type": "execute_result"
    }
   ],
   "source": [
    "filtered_df[filtered_df.wallclock_req_seconds.between(3600,36000,inclusive='right')].wallclock_req_seconds.mean() / 3600"
   ]
  },
  {
   "cell_type": "code",
   "execution_count": 192,
   "id": "9958c39c-de8f-425d-93dd-890293906dab",
   "metadata": {
    "tags": []
   },
   "outputs": [
    {
     "data": {
      "text/plain": [
       "38.42692376973019"
      ]
     },
     "execution_count": 192,
     "metadata": {},
     "output_type": "execute_result"
    }
   ],
   "source": [
    "filtered_df[filtered_df.wallclock_req_seconds.between(36000,360000,inclusive='right')].wallclock_req_seconds.mean() / 3600"
   ]
  },
  {
   "cell_type": "code",
   "execution_count": 193,
   "id": "c45cec0c-e24f-4221-93e4-2f5d1b4811da",
   "metadata": {
    "tags": []
   },
   "outputs": [
    {
     "data": {
      "text/plain": [
       "206.12755237474113"
      ]
     },
     "execution_count": 193,
     "metadata": {},
     "output_type": "execute_result"
    }
   ],
   "source": [
    "filtered_df[filtered_df.wallclock_req_seconds > 360000].wallclock_req_seconds.mean() / 3600"
   ]
  },
  {
   "cell_type": "code",
   "execution_count": 233,
   "id": "3956cbee-698e-4d30-8f1c-579531010cc6",
   "metadata": {
    "tags": []
   },
   "outputs": [
    {
     "data": {
      "text/html": [
       "<div>\n",
       "<style scoped>\n",
       "    .dataframe tbody tr th:only-of-type {\n",
       "        vertical-align: middle;\n",
       "    }\n",
       "\n",
       "    .dataframe tbody tr th {\n",
       "        vertical-align: top;\n",
       "    }\n",
       "\n",
       "    .dataframe thead th {\n",
       "        text-align: right;\n",
       "    }\n",
       "</style>\n",
       "<table border=\"1\" class=\"dataframe\">\n",
       "  <thead>\n",
       "    <tr style=\"text-align: right;\">\n",
       "      <th></th>\n",
       "      <th>user</th>\n",
       "      <th>account</th>\n",
       "      <th>partition</th>\n",
       "      <th>nodes_req</th>\n",
       "      <th>processors_req</th>\n",
       "      <th>wallclock_req</th>\n",
       "      <th>qos</th>\n",
       "      <th>gpus_requested</th>\n",
       "      <th>name</th>\n",
       "      <th>submit_time</th>\n",
       "      <th>...</th>\n",
       "      <th>end_time</th>\n",
       "      <th>work_dir</th>\n",
       "      <th>submit_line</th>\n",
       "      <th>req_mem</th>\n",
       "      <th>wallclock_used_seconds</th>\n",
       "      <th>node_hours_binned</th>\n",
       "      <th>wc_factor</th>\n",
       "      <th>wait_time</th>\n",
       "      <th>wallclock_req_seconds</th>\n",
       "      <th>wallclock_req_binned</th>\n",
       "    </tr>\n",
       "  </thead>\n",
       "  <tbody>\n",
       "    <tr>\n",
       "      <th>6117367</th>\n",
       "      <td>mdelchini</td>\n",
       "      <td>hpc4th</td>\n",
       "      <td>long</td>\n",
       "      <td>250</td>\n",
       "      <td>9000</td>\n",
       "      <td>10 days</td>\n",
       "      <td>normal</td>\n",
       "      <td>0</td>\n",
       "      <td>HFIR-CC</td>\n",
       "      <td>2021-04-12 10:51:41</td>\n",
       "      <td>...</td>\n",
       "      <td>2021-04-25 17:44:18</td>\n",
       "      <td>/lustre/eaglefs/scratch/mdelchini/Nek5000/run/...</td>\n",
       "      <td>None</td>\n",
       "      <td>0n</td>\n",
       "      <td>864022.0</td>\n",
       "      <td>long</td>\n",
       "      <td>0.999975</td>\n",
       "      <td>283935.0</td>\n",
       "      <td>864000.0</td>\n",
       "      <td>4</td>\n",
       "    </tr>\n",
       "  </tbody>\n",
       "</table>\n",
       "<p>1 rows × 25 columns</p>\n",
       "</div>"
      ],
      "text/plain": [
       "              user account partition  nodes_req  processors_req wallclock_req  \\\n",
       "6117367  mdelchini  hpc4th      long        250            9000       10 days   \n",
       "\n",
       "            qos  gpus_requested     name         submit_time  ...  \\\n",
       "6117367  normal               0  HFIR-CC 2021-04-12 10:51:41  ...   \n",
       "\n",
       "                   end_time  \\\n",
       "6117367 2021-04-25 17:44:18   \n",
       "\n",
       "                                                  work_dir  submit_line  \\\n",
       "6117367  /lustre/eaglefs/scratch/mdelchini/Nek5000/run/...         None   \n",
       "\n",
       "        req_mem wallclock_used_seconds node_hours_binned wc_factor wait_time  \\\n",
       "6117367      0n               864022.0              long  0.999975  283935.0   \n",
       "\n",
       "        wallclock_req_seconds  wallclock_req_binned  \n",
       "6117367              864000.0                     4  \n",
       "\n",
       "[1 rows x 25 columns]"
      ]
     },
     "execution_count": 233,
     "metadata": {},
     "output_type": "execute_result"
    }
   ],
   "source": [
    "filtered_df[filtered_df.hours_used == filtered_df.hours_used.max()]"
   ]
  },
  {
   "cell_type": "code",
   "execution_count": 234,
   "id": "8008d546-e0b3-4e67-abc1-cd15a8fd0291",
   "metadata": {
    "tags": []
   },
   "outputs": [
    {
     "data": {
      "text/plain": [
       "60001.527"
      ]
     },
     "execution_count": 234,
     "metadata": {},
     "output_type": "execute_result"
    }
   ],
   "source": [
    "filtered_df.hours_used.max()"
   ]
  },
  {
   "cell_type": "code",
   "execution_count": 254,
   "id": "58f9ae29-3e81-4677-94a2-f18edffef405",
   "metadata": {
    "tags": []
   },
   "outputs": [
    {
     "data": {
      "text/html": [
       "<div>\n",
       "<style scoped>\n",
       "    .dataframe tbody tr th:only-of-type {\n",
       "        vertical-align: middle;\n",
       "    }\n",
       "\n",
       "    .dataframe tbody tr th {\n",
       "        vertical-align: top;\n",
       "    }\n",
       "\n",
       "    .dataframe thead th {\n",
       "        text-align: right;\n",
       "    }\n",
       "</style>\n",
       "<table border=\"1\" class=\"dataframe\">\n",
       "  <thead>\n",
       "    <tr style=\"text-align: right;\">\n",
       "      <th></th>\n",
       "      <th>user</th>\n",
       "      <th>account</th>\n",
       "      <th>partition</th>\n",
       "      <th>nodes_req</th>\n",
       "      <th>processors_req</th>\n",
       "      <th>wallclock_req</th>\n",
       "      <th>qos</th>\n",
       "      <th>gpus_requested</th>\n",
       "      <th>name</th>\n",
       "      <th>submit_time</th>\n",
       "      <th>...</th>\n",
       "      <th>end_time</th>\n",
       "      <th>work_dir</th>\n",
       "      <th>submit_line</th>\n",
       "      <th>req_mem</th>\n",
       "      <th>wallclock_used_seconds</th>\n",
       "      <th>node_hours_binned</th>\n",
       "      <th>wc_factor</th>\n",
       "      <th>wait_time</th>\n",
       "      <th>wallclock_req_seconds</th>\n",
       "      <th>wallclock_req_binned</th>\n",
       "    </tr>\n",
       "  </thead>\n",
       "  <tbody>\n",
       "    <tr>\n",
       "      <th>1081</th>\n",
       "      <td>lambk</td>\n",
       "      <td>csc000</td>\n",
       "      <td>ddn</td>\n",
       "      <td>8</td>\n",
       "      <td>8</td>\n",
       "      <td>365 days</td>\n",
       "      <td>normal</td>\n",
       "      <td>0</td>\n",
       "      <td>bash</td>\n",
       "      <td>2018-11-14 22:59:27</td>\n",
       "      <td>...</td>\n",
       "      <td>2018-11-14 22:59:31</td>\n",
       "      <td>/scratch/lambk/DDN_BM/ior/nodemap</td>\n",
       "      <td>None</td>\n",
       "      <td>0n</td>\n",
       "      <td>4.0</td>\n",
       "      <td>short</td>\n",
       "      <td>7884000.0</td>\n",
       "      <td>0.0</td>\n",
       "      <td>31536000.0</td>\n",
       "      <td>4</td>\n",
       "    </tr>\n",
       "  </tbody>\n",
       "</table>\n",
       "<p>1 rows × 25 columns</p>\n",
       "</div>"
      ],
      "text/plain": [
       "       user account partition  nodes_req  processors_req wallclock_req  \\\n",
       "1081  lambk  csc000       ddn          8               8      365 days   \n",
       "\n",
       "         qos  gpus_requested  name         submit_time  ...  \\\n",
       "1081  normal               0  bash 2018-11-14 22:59:27  ...   \n",
       "\n",
       "                end_time                           work_dir  submit_line  \\\n",
       "1081 2018-11-14 22:59:31  /scratch/lambk/DDN_BM/ior/nodemap         None   \n",
       "\n",
       "     req_mem wallclock_used_seconds node_hours_binned  wc_factor wait_time  \\\n",
       "1081      0n                    4.0             short  7884000.0       0.0   \n",
       "\n",
       "     wallclock_req_seconds  wallclock_req_binned  \n",
       "1081            31536000.0                     4  \n",
       "\n",
       "[1 rows x 25 columns]"
      ]
     },
     "execution_count": 254,
     "metadata": {},
     "output_type": "execute_result"
    }
   ],
   "source": [
    "filtered_df[filtered_df.wc_factor == filtered_df[filtered_df.wallclock_used_seconds > 0].wc_factor.max()]"
   ]
  },
  {
   "cell_type": "code",
   "execution_count": 152,
   "id": "ff8352be-d410-4e5f-8e5b-49d633cd7c41",
   "metadata": {
    "tags": []
   },
   "outputs": [
    {
     "data": {
      "text/plain": [
       "{0: 0.6152947631770836,\n",
       " 1: 5.4768263194531,\n",
       " 2: 12.642329650994107,\n",
       " 3: 34.36002803704336,\n",
       " 4: 89.79769406366613}"
      ]
     },
     "execution_count": 152,
     "metadata": {},
     "output_type": "execute_result"
    }
   ],
   "source": [
    "avg_wait_time"
   ]
  },
  {
   "cell_type": "code",
   "execution_count": 280,
   "id": "87027a24-40e0-4f9e-a41e-fca2ed09ba03",
   "metadata": {
    "tags": []
   },
   "outputs": [],
   "source": [
    "from sklearn.metrics import r2_score\n",
    "from sklearn.metrics import mean_squared_error"
   ]
  },
  {
   "cell_type": "code",
   "execution_count": 287,
   "id": "97163afc-3f15-4def-b5ef-d454504ec48d",
   "metadata": {
    "tags": []
   },
   "outputs": [],
   "source": [
    "dub_f_df = filtered_df[~filtered_df.wallclock_used_seconds.isna() & ~filtered_df.wallclock_req_seconds.isna()]"
   ]
  },
  {
   "cell_type": "code",
   "execution_count": 307,
   "id": "363faa56-44a6-481a-9938-e2abb351302f",
   "metadata": {
    "tags": []
   },
   "outputs": [],
   "source": [
    "rmse = mean_squared_error(dub_f_df.wallclock_used_seconds,dub_f_df.wallclock_req_seconds/3, squared=False)"
   ]
  },
  {
   "cell_type": "code",
   "execution_count": 317,
   "id": "61a6df77-7434-439a-b2b9-ebc20fd1397b",
   "metadata": {
    "tags": []
   },
   "outputs": [],
   "source": [
    "start_date=pd.Timestamp(\"2019-01-01\")\n",
    "end_date=pd.Timestamp(\"2022-12-31\")\n"
   ]
  },
  {
   "cell_type": "code",
   "execution_count": 318,
   "id": "9eee3a75-8dfa-48be-aadf-c39f0e01f573",
   "metadata": {
    "tags": []
   },
   "outputs": [],
   "source": [
    "date_list = pd.date_range(start='01-01-2019', end='12-31-2022', freq=pd.Timedelta('6 days'))"
   ]
  },
  {
   "cell_type": "code",
   "execution_count": 331,
   "id": "3bddcd8d-d70f-4dfa-84bc-ac758138f8ae",
   "metadata": {
    "tags": []
   },
   "outputs": [],
   "source": [
    "dfs = []\n",
    "for date in date_list:\n",
    "    df = dub_f_df[dub_f_df.submit_time.between(date,date + pd.Timedelta(days=1))]\n",
    "    dfs.append(df)"
   ]
  },
  {
   "cell_type": "code",
   "execution_count": 332,
   "id": "f8e0a4e6-4e63-4daf-ac95-0d8069a3ae36",
   "metadata": {
    "tags": []
   },
   "outputs": [],
   "source": [
    "total_df = pd.concat(dfs)"
   ]
  },
  {
   "cell_type": "code",
   "execution_count": 333,
   "id": "6b4396eb-fa6a-4cee-ad44-4855ceebf44c",
   "metadata": {
    "tags": []
   },
   "outputs": [
    {
     "name": "stdout",
     "output_type": "stream",
     "text": [
      "1.0 25.92\n",
      "1.1 23.35\n",
      "1.2 21.27\n",
      "1.3 19.55\n",
      "1.4 18.13\n",
      "1.5 16.93\n",
      "1.6 15.92\n",
      "1.7 15.07\n",
      "1.8 14.35\n",
      "1.9 13.73\n",
      "2.0 13.21\n",
      "2.1 12.76\n",
      "2.2 12.37\n",
      "2.3 12.04\n",
      "2.4 11.76\n",
      "2.5 11.52\n",
      "2.6 11.31\n",
      "2.7 11.14\n",
      "2.8 10.99\n",
      "2.9 10.86\n",
      "3.0 10.75\n",
      "3.1 10.66\n",
      "3.2 10.58\n",
      "3.3 10.52\n",
      "3.4 10.47\n",
      "3.5 10.42\n",
      "3.6 10.39\n",
      "3.7 10.36\n",
      "3.8 10.34\n",
      "3.9 10.32\n",
      "4.0 10.31\n",
      "4.1 10.30\n",
      "4.2 10.30\n",
      "4.3 10.30\n",
      "4.4 10.30\n",
      "4.5 10.30\n",
      "4.6 10.31\n",
      "4.7 10.32\n",
      "4.8 10.33\n",
      "4.9 10.34\n",
      "5.0 10.35\n",
      "5.1 10.36\n",
      "5.2 10.38\n",
      "5.3 10.39\n",
      "5.4 10.41\n",
      "5.5 10.42\n",
      "5.6 10.44\n",
      "5.7 10.45\n",
      "5.8 10.47\n",
      "5.9 10.49\n",
      "6.0 10.51\n",
      "6.1 10.52\n",
      "6.2 10.54\n",
      "6.3 10.56\n",
      "6.4 10.57\n",
      "6.5 10.59\n",
      "6.6 10.61\n",
      "6.7 10.63\n",
      "6.8 10.64\n",
      "6.9 10.66\n",
      "7.0 10.68\n",
      "7.1 10.69\n",
      "7.2 10.71\n",
      "7.3 10.73\n",
      "7.4 10.74\n",
      "7.5 10.76\n",
      "7.6 10.77\n",
      "7.7 10.79\n",
      "7.8 10.80\n",
      "7.9 10.82\n",
      "8.0 10.84\n",
      "8.1 10.85\n",
      "8.2 10.87\n",
      "8.3 10.88\n",
      "8.4 10.89\n",
      "8.5 10.91\n",
      "8.6 10.92\n",
      "8.7 10.94\n",
      "8.8 10.95\n",
      "8.9 10.96\n",
      "9.0 10.98\n",
      "9.1 10.99\n",
      "9.2 11.00\n",
      "9.3 11.02\n",
      "9.4 11.03\n",
      "9.5 11.04\n",
      "9.6 11.05\n",
      "9.7 11.07\n",
      "9.8 11.08\n",
      "9.9 11.09\n",
      "10.0 11.10\n",
      "10.1 11.11\n",
      "10.2 11.12\n",
      "10.3 11.14\n",
      "10.4 11.15\n",
      "10.5 11.16\n",
      "10.6 11.17\n",
      "10.7 11.18\n",
      "10.8 11.19\n",
      "10.9 11.20\n",
      "11.0 11.21\n",
      "11.1 11.22\n",
      "11.2 11.23\n",
      "11.3 11.24\n",
      "11.4 11.25\n",
      "11.5 11.26\n",
      "11.6 11.27\n",
      "11.7 11.28\n",
      "11.8 11.29\n",
      "11.9 11.30\n",
      "12.0 11.30\n",
      "12.1 11.31\n",
      "12.2 11.32\n",
      "12.3 11.33\n",
      "12.4 11.34\n",
      "12.5 11.35\n",
      "12.6 11.36\n",
      "12.7 11.36\n",
      "12.8 11.37\n",
      "12.9 11.38\n",
      "13.0 11.39\n",
      "13.1 11.40\n",
      "13.2 11.40\n",
      "13.3 11.41\n",
      "13.4 11.42\n",
      "13.5 11.43\n",
      "13.6 11.43\n",
      "13.7 11.44\n",
      "13.8 11.45\n",
      "13.9 11.46\n",
      "14.0 11.46\n",
      "14.1 11.47\n",
      "14.2 11.48\n",
      "14.3 11.48\n",
      "14.4 11.49\n",
      "14.5 11.50\n",
      "14.6 11.50\n",
      "14.7 11.51\n",
      "14.8 11.52\n",
      "14.9 11.52\n",
      "15.0 11.53\n",
      "15.1 11.53\n",
      "15.2 11.54\n",
      "15.3 11.55\n",
      "15.4 11.55\n",
      "15.5 11.56\n",
      "15.6 11.56\n",
      "15.7 11.57\n",
      "15.8 11.58\n",
      "15.9 11.58\n",
      "16.0 11.59\n",
      "16.1 11.59\n",
      "16.2 11.60\n",
      "16.3 11.60\n",
      "16.4 11.61\n",
      "16.5 11.61\n",
      "16.6 11.62\n",
      "16.7 11.62\n",
      "16.8 11.63\n",
      "16.9 11.63\n",
      "17.0 11.64\n",
      "17.1 11.64\n",
      "17.2 11.65\n",
      "17.3 11.65\n",
      "17.4 11.66\n",
      "17.5 11.66\n",
      "17.6 11.67\n",
      "17.7 11.67\n",
      "17.8 11.68\n",
      "17.9 11.68\n",
      "18.0 11.69\n",
      "18.1 11.69\n",
      "18.2 11.70\n",
      "18.3 11.70\n",
      "18.4 11.70\n",
      "18.5 11.71\n",
      "18.6 11.71\n",
      "18.7 11.72\n",
      "18.8 11.72\n",
      "18.9 11.73\n",
      "19.0 11.73\n",
      "19.1 11.73\n",
      "19.2 11.74\n",
      "19.3 11.74\n",
      "19.4 11.75\n",
      "19.5 11.75\n",
      "19.6 11.75\n",
      "19.7 11.76\n",
      "19.8 11.76\n",
      "19.9 11.77\n",
      "20.0 11.77\n",
      "20.1 11.77\n",
      "20.2 11.78\n",
      "20.3 11.78\n",
      "20.4 11.78\n",
      "20.5 11.79\n",
      "20.6 11.79\n",
      "20.7 11.79\n",
      "20.8 11.80\n",
      "20.9 11.80\n",
      "21.0 11.81\n",
      "21.1 11.81\n",
      "21.2 11.81\n",
      "21.3 11.82\n",
      "21.4 11.82\n",
      "21.5 11.82\n",
      "21.6 11.83\n",
      "21.7 11.83\n",
      "21.8 11.83\n",
      "21.9 11.83\n",
      "22.0 11.84\n",
      "22.1 11.84\n",
      "22.2 11.84\n",
      "22.3 11.85\n",
      "22.4 11.85\n",
      "22.5 11.85\n",
      "22.6 11.86\n",
      "22.7 11.86\n",
      "22.8 11.86\n",
      "22.9 11.87\n",
      "23.0 11.87\n",
      "23.1 11.87\n",
      "23.2 11.87\n",
      "23.3 11.88\n",
      "23.4 11.88\n",
      "23.5 11.88\n",
      "23.6 11.89\n",
      "23.7 11.89\n",
      "23.8 11.89\n",
      "23.9 11.89\n",
      "24.0 11.90\n",
      "24.1 11.90\n",
      "24.2 11.90\n",
      "24.3 11.90\n",
      "24.4 11.91\n",
      "24.5 11.91\n",
      "24.6 11.91\n",
      "24.7 11.91\n",
      "24.8 11.92\n",
      "24.9 11.92\n",
      "25.0 11.92\n",
      "25.1 11.93\n",
      "25.2 11.93\n",
      "25.3 11.93\n",
      "25.4 11.93\n",
      "25.5 11.93\n",
      "25.6 11.94\n",
      "25.7 11.94\n",
      "25.8 11.94\n",
      "25.9 11.94\n",
      "26.0 11.95\n",
      "26.1 11.95\n",
      "26.2 11.95\n",
      "26.3 11.95\n",
      "26.4 11.96\n",
      "26.5 11.96\n",
      "26.6 11.96\n",
      "26.7 11.96\n",
      "26.8 11.96\n",
      "26.9 11.97\n",
      "27.0 11.97\n",
      "27.1 11.97\n",
      "27.2 11.97\n",
      "27.3 11.98\n",
      "27.4 11.98\n",
      "27.5 11.98\n",
      "27.6 11.98\n",
      "27.7 11.98\n",
      "27.8 11.99\n",
      "27.9 11.99\n",
      "28.0 11.99\n",
      "28.1 11.99\n",
      "28.2 11.99\n",
      "28.3 12.00\n",
      "28.4 12.00\n",
      "28.5 12.00\n",
      "28.6 12.00\n",
      "28.7 12.00\n",
      "28.8 12.01\n",
      "28.9 12.01\n",
      "29.0 12.01\n",
      "29.1 12.01\n",
      "29.2 12.01\n",
      "29.3 12.02\n",
      "29.4 12.02\n",
      "29.5 12.02\n",
      "29.6 12.02\n",
      "29.7 12.02\n",
      "29.8 12.02\n",
      "29.9 12.03\n"
     ]
    }
   ],
   "source": [
    "for i in np.arange(1,30,.1):\n",
    "    rmse = mean_squared_error(total_df.wallclock_used_seconds,total_df.wallclock_req_seconds/i, squared=False)\n",
    "    print(f'{i:.1f}', f'{rmse/3600:.2f}')"
   ]
  },
  {
   "cell_type": "code",
   "execution_count": 308,
   "id": "2fbe62ba-4ff8-4571-b6df-5af0bfd749da",
   "metadata": {
    "tags": []
   },
   "outputs": [
    {
     "data": {
      "text/plain": [
       "9.075956585778659"
      ]
     },
     "execution_count": 308,
     "metadata": {},
     "output_type": "execute_result"
    }
   ],
   "source": [
    "rmse /3600"
   ]
  },
  {
   "cell_type": "code",
   "execution_count": 338,
   "id": "fa852687-58cf-4f76-b9c6-9c57483f4542",
   "metadata": {
    "tags": []
   },
   "outputs": [
    {
     "data": {
      "text/plain": [
       "73025       172800.0\n",
       "73026       172800.0\n",
       "73027       172800.0\n",
       "73028       172800.0\n",
       "73029       172800.0\n",
       "              ...   \n",
       "10824831    172800.0\n",
       "10824832    172800.0\n",
       "10824833    172800.0\n",
       "10824834    172800.0\n",
       "10824835    172800.0\n",
       "Name: wallclock_req_seconds, Length: 7936388, dtype: float64"
      ]
     },
     "execution_count": 338,
     "metadata": {},
     "output_type": "execute_result"
    }
   ],
   "source": [
    "filtered_df.wallclock_req_seconds"
   ]
  },
  {
   "cell_type": "code",
   "execution_count": null,
   "id": "1671eb81-bba8-4a28-a572-9e30f0bb2d7f",
   "metadata": {},
   "outputs": [],
   "source": []
  }
 ],
 "metadata": {
  "kernelspec": {
   "display_name": "Python 3 (ipykernel)",
   "language": "python",
   "name": "python3"
  },
  "language_info": {
   "codemirror_mode": {
    "name": "ipython",
    "version": 3
   },
   "file_extension": ".py",
   "mimetype": "text/x-python",
   "name": "python",
   "nbconvert_exporter": "python",
   "pygments_lexer": "ipython3",
   "version": "3.11.0"
  }
 },
 "nbformat": 4,
 "nbformat_minor": 5
}
